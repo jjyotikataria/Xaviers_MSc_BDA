{
  "nbformat": 4,
  "nbformat_minor": 0,
  "metadata": {
    "colab": {
      "name": "Practical_Session1_Alignment.ipynb",
      "provenance": []
    },
    "kernelspec": {
      "name": "python3",
      "display_name": "Python 3"
    },
    "language_info": {
      "name": "python"
    }
  },
  "cells": [
    {
      "cell_type": "code",
      "metadata": {
        "colab": {
          "base_uri": "https://localhost:8080/"
        },
        "id": "Qiy8Ra5pmFvI",
        "outputId": "25741e10-fea1-4fb5-c873-0815c2218d23"
      },
      "source": [
        "## Importing the required libraries\n",
        "!pip install biopython"
      ],
      "execution_count": null,
      "outputs": [
        {
          "output_type": "stream",
          "text": [
            "Requirement already satisfied: biopython in /usr/local/lib/python3.7/dist-packages (1.79)\n",
            "Requirement already satisfied: numpy in /usr/local/lib/python3.7/dist-packages (from biopython) (1.19.5)\n"
          ],
          "name": "stdout"
        }
      ]
    },
    {
      "cell_type": "code",
      "metadata": {
        "id": "nI-edhU0mN8G"
      },
      "source": [
        "## Commonly used alignment softwares\n",
        "import Bio.Align.Applications\n",
        "dir(Bio.Align.Applications)\n",
        "\n",
        "# Import pairwise2 module\n",
        "from Bio import pairwise2\n",
        "\n",
        "# Import format_alignment method\n",
        "from Bio.pairwise2 import format_alignment"
      ],
      "execution_count": null,
      "outputs": []
    },
    {
      "cell_type": "code",
      "metadata": {
        "id": "88JkPP5wS_-a"
      },
      "source": [
        "## GLOBAL ALIGNMENT"
      ],
      "execution_count": null,
      "outputs": []
    },
    {
      "cell_type": "code",
      "metadata": {
        "colab": {
          "base_uri": "https://localhost:8080/"
        },
        "id": "_CF1aYtXm2TG",
        "outputId": "c3d90db0-078f-4537-d1f3-f980c9717486"
      },
      "source": [
        "# Define two sequences to be aligned\n",
        "X = \"WATER\"\n",
        "Y = \"WINE\"\n",
        "\n",
        "# Get a list of the global alignments between the two sequences ACGGGT and ACG\n",
        "# No parameters. Identical characters have score of 1, else 0.\n",
        "# No gap penalties.\n",
        "alignments = pairwise2.align.globalxx(X, Y)\n",
        "\n",
        "# Use format_alignment method to format the alignments in the list\n",
        "for a in alignments:\n",
        "    print(format_alignment(*a))"
      ],
      "execution_count": null,
      "outputs": [
        {
          "output_type": "stream",
          "text": [
            "WAT--ER\n",
            "|    | \n",
            "W--INE-\n",
            "  Score=2\n",
            "\n",
            "WAT-ER\n",
            "| . | \n",
            "W-INE-\n",
            "  Score=2\n",
            "\n",
            "WAT-ER\n",
            "|.  | \n",
            "WI-NE-\n",
            "  Score=2\n",
            "\n",
            "WA-TER\n",
            "|  .| \n",
            "W-INE-\n",
            "  Score=2\n",
            "\n",
            "WATER\n",
            "|..| \n",
            "WINE-\n",
            "  Score=2\n",
            "\n",
            "W-ATER\n",
            "| . | \n",
            "WIN-E-\n",
            "  Score=2\n",
            "\n"
          ],
          "name": "stdout"
        }
      ]
    },
    {
      "cell_type": "code",
      "metadata": {
        "colab": {
          "base_uri": "https://localhost:8080/"
        },
        "id": "57UO92RiDvfC",
        "outputId": "0e94b386-f57f-46d2-cd5c-5482fc1ae164"
      },
      "source": [
        "# Get a list of the local alignments between the two sequences ACGGGT and ACG\n",
        "# No parameters. Identical characters have score of 1, else 0.\n",
        "# No gap penalties.\n",
        "alignments = pairwise2.align.localxx(X, Y)\n",
        "\n",
        "# Use format_alignment method to format the alignments in the list\n",
        "for a in alignments:\n",
        "    print(format_alignment(*a))"
      ],
      "execution_count": null,
      "outputs": [
        {
          "output_type": "stream",
          "text": [
            "1 ACGGG\n",
            "  ||  |\n",
            "1 AC--G\n",
            "  Score=3\n",
            "\n",
            "1 ACGG\n",
            "  || |\n",
            "1 AC-G\n",
            "  Score=3\n",
            "\n",
            "1 ACG\n",
            "  |||\n",
            "1 ACG\n",
            "  Score=3\n",
            "\n"
          ],
          "name": "stdout"
        }
      ]
    },
    {
      "cell_type": "code",
      "metadata": {
        "id": "LU788gWSFCwy"
      },
      "source": [
        "## ASSIGNING THE SCORING SYSTEM\n",
        "## Matching characters   =   2 points\n",
        "## Mismatching character =  -1 point\n",
        "## Opening a gap         =  -0.5 point \n",
        "## Extending the gap     =  -0.1 point"
      ],
      "execution_count": null,
      "outputs": []
    },
    {
      "cell_type": "code",
      "metadata": {
        "id": "0_vHD5i6KLYo"
      },
      "source": [
        "alignments = pairwise2.align.globalms(X, Y, 2, -1, -0.5, -0.1)\n"
      ],
      "execution_count": null,
      "outputs": []
    },
    {
      "cell_type": "code",
      "metadata": {
        "colab": {
          "base_uri": "https://localhost:8080/"
        },
        "id": "O4cNNBFPKq_g",
        "outputId": "f5520530-1876-41ef-f102-a0ab4b45ad6f"
      },
      "source": [
        "for a in alignments:\n",
        "    print(format_alignment(*a))"
      ],
      "execution_count": null,
      "outputs": [
        {
          "output_type": "stream",
          "text": [
            "ACGGGT\n",
            "|||   \n",
            "ACG---\n",
            "  Score=5.3\n",
            "\n"
          ],
          "name": "stdout"
        }
      ]
    },
    {
      "cell_type": "code",
      "metadata": {
        "id": "On_s5gw9Kto5"
      },
      "source": [
        ""
      ],
      "execution_count": null,
      "outputs": []
    }
  ]
}